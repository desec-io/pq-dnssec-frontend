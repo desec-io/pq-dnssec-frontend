{
 "cells": [
  {
   "cell_type": "code",
   "execution_count": null,
   "id": "1eb10d7b",
   "metadata": {},
   "outputs": [],
   "source": [
    "from ipaddress import ip_address\n",
    "\n",
    "import pandas as pd\n",
    "import matplotlib.pyplot as plt\n",
    "import numpy as np\n",
    "import seaborn as sns\n",
    "\n",
    "from matplotlib.colors import LogNorm\n",
    "from matplotlib.backends.backend_pdf import PdfPages"
   ]
  },
  {
   "cell_type": "code",
   "execution_count": null,
   "id": "0bc1d6c1",
   "metadata": {},
   "outputs": [],
   "source": [
    "algos = {\n",
    "    'unsigned': 0,\n",
    "    'dilithium2': 18,\n",
    "    'ecdsa256': 13,\n",
    "    'ed25519': 15,\n",
    "    'falcon512': 17,\n",
    "    'rsasha256': 8,\n",
    "    'sphincs-sha256-128s': 19,\n",
    "    'xmssmt-sha256-h40-4': 21,\n",
    "    'xmssmt-sha256-h40-8': 21,\n",
    "}\n",
    "rcodes = ['NOERROR', 'NXDOMAIN', 'SERVFAIL', 'REFUSED', 'FORMERR']\n",
    "df = pd.read_csv(\"results.csv\")\n",
    "df.rename(columns={\"rtt\": \"response_time\"}, inplace=True)\n",
    "df['algo'] = df['algo'].transform(lambda x: f'{algos[x.rstrip(\"3\")]:02}_{x}')\n",
    "df['rcode'] = pd.Categorical(df['rcode'], rcodes)\n",
    "df['private_dst'] = df['dst_addr'].apply(lambda x: x and ip_address(x).is_private)\n",
    "for column in [\"is_nx\", \"correct_response\", \"tcp\", \"do\", \"ad\", \"bad_unsigned\", \"bad_rsa\"]:\n",
    "    df[column] = df[column].map({'t': True, 'f': False}).astype(\"boolean\")\n",
    "df.head()\n",
    "df.tail()"
   ]
  },
  {
   "cell_type": "code",
   "execution_count": null,
   "id": "e35f2041",
   "metadata": {},
   "outputs": [],
   "source": [
    "df = df[df.private_dst == False]"
   ]
  },
  {
   "cell_type": "code",
   "execution_count": null,
   "id": "80f8cbd9",
   "metadata": {},
   "outputs": [],
   "source": [
    "done = False\n",
    "for tag, cond in {'good-unsigned': (df.bad_unsigned == False), 'good-rsa': (df.bad_rsa == False)}.items():\n",
    "    if done: break\n",
    "    for vendor in ['pdns', 'bind9']:\n",
    "        if done: break\n",
    "        with PdfPages(f'results_{vendor}_{tag}.pdf') as pdf_pages:\n",
    "            for x in ['rcode', 'correct_response', 'ad', 'response_time']:\n",
    "                if done: break\n",
    "                for is_nx in [False, True]:\n",
    "                    if done: break\n",
    "                    kwargs = {}\n",
    "                    if df[x].dtype == 'boolean':\n",
    "                        kwargs['discrete'] = True\n",
    "                    #    kwargs['bins'] = 2\n",
    "                    #    kwargs['binrange'] = ((-.5, 1.5), None)\n",
    "                    if x == 'response_time':\n",
    "                        kwargs['binrange'] = ((0, 10000), None)\n",
    "                    #    kwargs['log_scale'] = (True, False)\n",
    "                    if x == 'rcode':\n",
    "                        kwargs['bins'] = (rcodes, None)\n",
    "                    g = sns.displot(df[(df.is_nx == is_nx) & cond & (df.vendor == vendor)].sort_values(['algo', x]), x=x, y='algo', cbar=True, cmap='viridis_r', norm=LogNorm(), vmin=None, vmax=None, row='tcp', col='do', aspect=1.5, **kwargs)\n",
    "                    g.fig.subplots_adjust(top=0.9)\n",
    "                    g.fig.suptitle(f'{vendor=}, {is_nx=}, {tag}')\n",
    "                    if x != 'response_time':\n",
    "                        for row in g.axes:\n",
    "                            if done: break\n",
    "                            for ax in row:\n",
    "                                x_dim = ax.collections[0].get_coordinates().shape[1] - 1\n",
    "                                y_dim = ax.collections[0].get_coordinates().shape[0] - 1\n",
    "                                hist_array = ax.collections[0].get_array().reshape([y_dim, x_dim])\n",
    "                                counts = {k: hist_array[k].sum() for k in range(y_dim)}\n",
    "                                for k, v in enumerate(ax.collections[0].get_array().ravel()):\n",
    "                                    if not np.ma.is_masked(v):\n",
    "                                        fraction = v/counts[k//x_dim]\n",
    "                                        ax.annotate(f'{fraction*100:.3g}%', xy=(k%x_dim, k//x_dim), ha='center', color='white' if fraction >= 0.005 else 'black')\n",
    "                    pdf_pages.savefig(plt.gcf())"
   ]
  }
 ],
 "metadata": {
  "kernelspec": {
   "display_name": "Python 3 (ipykernel)",
   "language": "python",
   "name": "python3"
  },
  "language_info": {
   "codemirror_mode": {
    "name": "ipython",
    "version": 3
   },
   "file_extension": ".py",
   "mimetype": "text/x-python",
   "name": "python",
   "nbconvert_exporter": "python",
   "pygments_lexer": "ipython3",
   "version": "3.10.12"
  }
 },
 "nbformat": 4,
 "nbformat_minor": 5
}
